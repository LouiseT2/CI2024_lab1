{
 "cells": [
  {
   "cell_type": "markdown",
   "metadata": {},
   "source": [
    "Copyright **`(c)`** 2024 Giovanni Squillero `<giovanni.squillero@polito.it>`  \n",
    "[`https://github.com/squillero/computational-intelligence`](https://github.com/squillero/computational-intelligence)  \n",
    "Free for personal or classroom use; see [`LICENSE.md`](https://github.com/squillero/computational-intelligence/blob/master/LICENSE.md) for details.  "
   ]
  },
  {
   "cell_type": "markdown",
   "metadata": {},
   "source": [
    "# Set Cover problem\n",
    "\n",
    "See: https://en.wikipedia.org/wiki/Set_cover_problem"
   ]
  },
  {
   "cell_type": "code",
   "execution_count": 4,
   "metadata": {},
   "outputs": [
    {
     "name": "stdout",
     "output_type": "stream",
     "text": [
      "Collecting icecream\n",
      "  Obtaining dependency information for icecream from https://files.pythonhosted.org/packages/06/4e/21e309c7087695cf500a1827597f8510641f2c9a50ed7741bf7fc38736ff/icecream-2.1.3-py2.py3-none-any.whl.metadata\n",
      "  Downloading icecream-2.1.3-py2.py3-none-any.whl.metadata (1.4 kB)\n",
      "Requirement already satisfied: colorama>=0.3.9 in c:\\users\\user\\anaconda3\\lib\\site-packages (from icecream) (0.4.6)\n",
      "Requirement already satisfied: pygments>=2.2.0 in c:\\users\\user\\anaconda3\\lib\\site-packages (from icecream) (2.15.1)\n",
      "Requirement already satisfied: executing>=0.3.1 in c:\\users\\user\\anaconda3\\lib\\site-packages (from icecream) (0.8.3)\n",
      "Requirement already satisfied: asttokens>=2.0.1 in c:\\users\\user\\anaconda3\\lib\\site-packages (from icecream) (2.0.5)\n",
      "Requirement already satisfied: six in c:\\users\\user\\anaconda3\\lib\\site-packages (from asttokens>=2.0.1->icecream) (1.16.0)\n",
      "Downloading icecream-2.1.3-py2.py3-none-any.whl (8.4 kB)\n",
      "Installing collected packages: icecream\n",
      "Successfully installed icecream-2.1.3\n"
     ]
    }
   ],
   "source": [
    "!pip install icecream"
   ]
  },
  {
   "cell_type": "code",
   "execution_count": 58,
   "metadata": {},
   "outputs": [],
   "source": [
    "from random import random, seed\n",
    "from itertools import product\n",
    "import numpy as np\n",
    "import random\n",
    "import matplotlib.pyplot as plt\n",
    "from icecream import ic\n",
    "\n",
    "import math\n"
   ]
  },
  {
   "cell_type": "markdown",
   "metadata": {},
   "source": [
    "## Reproducible Initialization\n",
    "\n",
    "If you want to get reproducible results, use `rng` (and restart the kernel); for non-reproducible ones, use `np.random`."
   ]
  },
  {
   "cell_type": "code",
   "execution_count": 6,
   "metadata": {},
   "outputs": [],
   "source": [
    "UNIVERSE_SIZE = 100_000 #Size of the universe here 100_000 different unit\n",
    "NUM_SETS = 10_000\n",
    "DENSITY = 0.3 #Probability of an element to be on a set (for each set)\n",
    "\n",
    "rng = np.random.Generator(np.random.PCG64([UNIVERSE_SIZE, NUM_SETS, int(10_000 * DENSITY)])) #Here the size of each set is 10 000*0.3=3 333"
   ]
  },
  {
   "cell_type": "code",
   "execution_count": 7,
   "metadata": {},
   "outputs": [],
   "source": [
    "\n",
    "# DON'T EDIT THESE LINES!\n",
    "\n",
    "SETS = np.random.random((NUM_SETS, UNIVERSE_SIZE)) < DENSITY\n",
    "for s in range(UNIVERSE_SIZE):\n",
    "    if not np.any(SETS[:, s]):\n",
    "        SETS[np.random.randint(NUM_SETS), s] = True\n",
    "COSTS = np.power(SETS.sum(axis=1), 1.1)"
   ]
  },
  {
   "cell_type": "markdown",
   "metadata": {},
   "source": [
    "## Helper Functions"
   ]
  },
  {
   "cell_type": "code",
   "execution_count": 8,
   "metadata": {},
   "outputs": [],
   "source": [
    "def valid(solution):\n",
    "    \"\"\"Checks wether solution is valid (ie. covers all universe)\"\"\"\n",
    "    return np.all(np.logical_or.reduce(SETS[solution]))\n",
    "\n",
    "\n",
    "def cost(solution):\n",
    "    \"\"\"Returns the cost of a solution (to be minimized)\"\"\"\n",
    "    return COSTS[solution].sum()"
   ]
  },
  {
   "cell_type": "markdown",
   "metadata": {},
   "source": [
    "## Have Fun!"
   ]
  },
  {
   "cell_type": "code",
   "execution_count": 24,
   "metadata": {},
   "outputs": [
    {
     "data": {
      "text/plain": [
       "(True, 841061515.0106916)"
      ]
     },
     "execution_count": 24,
     "metadata": {},
     "output_type": "execute_result"
    }
   ],
   "source": [
    "# A dumb solution of \"all\" sets\n",
    "solution = np.full(NUM_SETS, True)\n",
    "valid(solution), cost(solution)"
   ]
  },
  {
   "cell_type": "code",
   "execution_count": 177,
   "metadata": {},
   "outputs": [
    {
     "data": {
      "text/plain": [
       "(True, 422717869.50755346)"
      ]
     },
     "execution_count": 177,
     "metadata": {},
     "output_type": "execute_result"
    }
   ],
   "source": [
    "# A random solution with random 50% of the sets\n",
    "solution = rng.random(NUM_SETS) < .5\n",
    "valid(solution), cost(solution)"
   ]
  },
  {
   "cell_type": "markdown",
   "metadata": {},
   "source": [
    "## Problem modelization"
   ]
  },
  {
   "cell_type": "markdown",
   "metadata": {},
   "source": [
    "I started by creating a class to modelize the problem. We have the intiale solution calculated randomly depending on the universe size, the number of sets, the list of sets and there costs.\n",
    "\n",
    "Value allow to calculate the cost of a solution and is_valid allow to verify if a combinaison of sets is a solution to the problem.\n",
    "\n",
    "Mutation function take the current solution and randomly add, delete or replace a set.\n",
    "\n",
    "Neighbout create a new solution created from the current solution from which we applied Number of sets/10 sets. If the neighbour is valid then it is send back,if not we calculate an other one.\n",
    "\n",
    "Once the problem created we can try different local search algorithm"
   ]
  },
  {
   "cell_type": "code",
   "execution_count": 96,
   "metadata": {},
   "outputs": [],
   "source": [
    "class SetCoveringProblem:\n",
    "    def __init__(self, universe_size, num_sets, sets, costs):\n",
    "        self.universe_size = universe_size\n",
    "        self.num_sets = num_sets\n",
    "        self.sets = sets\n",
    "        self.costs = costs\n",
    "        self.initial = self.random_solution()\n",
    "\n",
    "    def random_solution(self):\n",
    "        return np.random.choice(self.num_sets, size=int(self.num_sets * DENSITY), replace=False)\n",
    "\n",
    "    def value(self, solution):\n",
    "        return cost(solution)\n",
    "    \n",
    "    def is_valid(self, solution):\n",
    "        return valid(solution)\n",
    "\n",
    "    def mutation(self, solution):\n",
    "        new_solution = solution.copy()\n",
    "        mutation=np.random.choice([0, 1, 2])\n",
    "        \n",
    "        if mutation==0:\n",
    "            available_sets=list(set(range(self.num_sets))-set(new_solution))\n",
    "            if available_sets:\n",
    "                new_set=np.random.choice(available_sets)\n",
    "                new_solution=np.append(new_solution,new_set)\n",
    "\n",
    "        elif mutation == 1 and len(new_solution) > 1:\n",
    "            remove_idx = np.random.randint(len(new_solution))\n",
    "            new_solution = np.delete(new_solution, remove_idx)\n",
    "            \n",
    "        elif mutation == 2 and len(new_solution) > 1:\n",
    "            remove_idx = np.random.randint(len(new_solution))\n",
    "            available_sets = list(set(range(self.num_sets))-set(new_solution))\n",
    "            if available_sets:\n",
    "                new_set = np.random.choice(available_sets)\n",
    "                new_solution[remove_idx] = new_set\n",
    "        return new_solution\n",
    "    \n",
    "    def neighbour(self, solution):\n",
    "        num_mutations = np.random.randint(1, self.num_sets // 10)  # Mutation of max 1/10 of the set (it can be less if some mutations inverse each others)\n",
    "        new_solution = solution.copy()\n",
    "        for _ in range(num_mutations):\n",
    "            new_solution = self.mutation(new_solution)\n",
    "        if not self.is_valid(new_solution):\n",
    "            new_solution = self.neighbour(solution)\n",
    "        return new_solution"
   ]
  },
  {
   "cell_type": "markdown",
   "metadata": {},
   "source": [
    "## Simulated Anealling"
   ]
  },
  {
   "cell_type": "code",
   "execution_count": 100,
   "metadata": {},
   "outputs": [],
   "source": [
    "def exponential_schedule(temperature=1000, alpha=0.95, limit=1000):#This function describe the evolution of the temperature\n",
    "    return lambda t: (temperature * np.exp(-alpha * t) if t < limit else 1e-3)\n",
    "\n",
    "def simulated_annealing(problem, max_iterations=1000, schedule=exponential_schedule(), max_evaluations=10000):\n",
    "    # Initialisation de la solution\n",
    "    current_solution = problem.random_solution()\n",
    "    current_value = problem.value(current_solution)\n",
    "    best_solution = current_solution\n",
    "    best_value = current_value\n",
    "    num_evaluations = 1\n",
    "    costs = [current_value]\n",
    "    temperature =schedule(0) #Initial temperature\n",
    "    t=1\n",
    "\n",
    "    while num_evaluations < max_evaluations and temperature >0:\n",
    "        #Generate a Neighbour\n",
    "        neighbour_solution=problem.neighbour(current_solution)\n",
    "        neighbour_value=problem.value(neighbour_solution)\n",
    "        num_evaluations+=1\n",
    "        costs.append(neighbour_value)\n",
    "\n",
    "        #If the neighbour is better we keep him\n",
    "        if neighbour_value<current_value:\n",
    "            current_solution=neighbour_solution\n",
    "            current_value=neighbour_value\n",
    "            if current_value<best_value:\n",
    "                best_solution = current_solution\n",
    "                best_value = current_value\n",
    "                #print(best_value,problem.is_valid(best_solution))\n",
    "        else:\n",
    "            #If the neighbour is not better we calculate the probability to keep it using the temperature\n",
    "            probability = math.exp((current_value-neighbour_value)/temperature)\n",
    "            if random.random()<probability:\n",
    "                current_solution=neighbour_solution\n",
    "                current_value=neighbour_value\n",
    "\n",
    "        #We calculate the temperature (cooling it down)\n",
    "        temperature=schedule(t)\n",
    "        t+=1# Increment time step\n",
    "\n",
    "    return best_solution, best_value, num_evaluations, costs\n"
   ]
  },
  {
   "cell_type": "code",
   "execution_count": 101,
   "metadata": {
    "scrolled": true
   },
   "outputs": [
    {
     "name": "stderr",
     "output_type": "stream",
     "text": [
      "C:\\Users\\user\\AppData\\Local\\Temp\\ipykernel_60456\\1407305470.py:33: RuntimeWarning: overflow encountered in scalar divide\n",
      "  probability = math.exp((current_value-neighbour_value) / temperature)\n"
     ]
    },
    {
     "name": "stdout",
     "output_type": "stream",
     "text": [
      "Best solution found has cost: 2519282.169588054\n",
      "Number of evaluations: 785\n"
     ]
    }
   ],
   "source": [
    "#alpha=0.95\n",
    "problem = SetCoveringProblem(UNIVERSE_SIZE, NUM_SETS, SETS, COSTS)\n",
    "best_solution, best_value,evaluations, fit_list,  = simulated_annealing(problem)\n",
    "print(f\"Best solution found has cost: {best_value}\")\n",
    "print(f\"Number of evaluations: {evaluations}\")"
   ]
  },
  {
   "cell_type": "code",
   "execution_count": 102,
   "metadata": {},
   "outputs": [
    {
     "data": {
      "text/plain": [
       "[<matplotlib.lines.Line2D at 0x230ed22d1d0>]"
      ]
     },
     "execution_count": 102,
     "metadata": {},
     "output_type": "execute_result"
    },
    {
     "data": {
      "image/png": "[encoded data removed]",
      "text/plain": [
       "<Figure size 640x480 with 1 Axes>"
      ]
     },
     "metadata": {},
     "output_type": "display_data"
    }
   ],
   "source": [
    "plt.plot(fit_list)"
   ]
  },
  {
   "cell_type": "code",
   "execution_count": 185,
   "metadata": {
    "scrolled": true
   },
   "outputs": [
    {
     "name": "stderr",
     "output_type": "stream",
     "text": [
      "C:\\Users\\user\\AppData\\Local\\Temp\\ipykernel_60456\\1407305470.py:33: RuntimeWarning: overflow encountered in scalar divide\n",
      "  probability = math.exp((current_value-neighbour_value) / temperature)\n"
     ]
    },
    {
     "name": "stdout",
     "output_type": "stream",
     "text": [
      "Best solution found has cost: 2353852.387290958\n",
      "Number of evaluations: 785\n"
     ]
    }
   ],
   "source": [
    "#temperature=10_000\n",
    "problem = SetCoveringProblem(UNIVERSE_SIZE, NUM_SETS, SETS, COSTS)\n",
    "best_solution, best_value,evaluations, fit_list,  = simulated_annealing(problem=problem,schedule=exponential_schedule(temperature=10_000))\n",
    "print(f\"Best solution found has cost: {best_value}\")\n",
    "print(f\"Number of evaluations: {evaluations}\")"
   ]
  },
  {
   "cell_type": "code",
   "execution_count": 186,
   "metadata": {},
   "outputs": [
    {
     "data": {
      "text/plain": [
       "[<matplotlib.lines.Line2D at 0x230bbab89d0>]"
      ]
     },
     "execution_count": 186,
     "metadata": {},
     "output_type": "execute_result"
    },
    {
     "data": {
      "image/png": "[encoded data removed]",
      "text/plain": [
       "<Figure size 640x480 with 1 Axes>"
      ]
     },
     "metadata": {},
     "output_type": "display_data"
    }
   ],
   "source": [
    "plt.plot(fit_list)"
   ]
  },
  {
   "cell_type": "code",
   "execution_count": 187,
   "metadata": {},
   "outputs": [
    {
     "name": "stderr",
     "output_type": "stream",
     "text": [
      "C:\\Users\\user\\AppData\\Local\\Temp\\ipykernel_60456\\1407305470.py:33: RuntimeWarning: overflow encountered in scalar divide\n",
      "  probability = math.exp((current_value-neighbour_value) / temperature)\n"
     ]
    },
    {
     "name": "stdout",
     "output_type": "stream",
     "text": [
      "Best solution found has cost: 2518628.4076221646\n",
      "Number of evaluations: 785\n"
     ]
    }
   ],
   "source": [
    "#alpha=0.9\n",
    "problem = SetCoveringProblem(UNIVERSE_SIZE, NUM_SETS, SETS, COSTS)\n",
    "best_solution, best_value,evaluations, fit_list,  = simulated_annealing(problem=problem,schedule=exponential_schedule())\n",
    "print(f\"Best solution found has cost: {best_value}\")\n",
    "print(f\"Number of evaluations: {evaluations}\")"
   ]
  },
  {
   "cell_type": "code",
   "execution_count": 188,
   "metadata": {},
   "outputs": [
    {
     "data": {
      "text/plain": [
       "[<matplotlib.lines.Line2D at 0x230bba851d0>]"
      ]
     },
     "execution_count": 188,
     "metadata": {},
     "output_type": "execute_result"
    },
    {
     "data": {
      "image/png": "[encoded data removed]",
      "text/plain": [
       "<Figure size 640x480 with 1 Axes>"
      ]
     },
     "metadata": {},
     "output_type": "display_data"
    }
   ],
   "source": [
    "plt.plot(fit_list)"
   ]
  },
  {
   "cell_type": "markdown",
   "metadata": {},
   "source": [
    "## Hill Climbing"
   ]
  },
  {
   "cell_type": "markdown",
   "metadata": {},
   "source": [
    "I tried hill climbing to see if I would obtain better resolts"
   ]
  },
  {
   "cell_type": "code",
   "execution_count": 55,
   "metadata": {},
   "outputs": [],
   "source": [
    "def hill_climbing(problem, max_iterations=1000):\n",
    "    current_solution=problem.random_solution()\n",
    "    current_value=problem.value(current_solution)\n",
    "    iteration=0\n",
    "    num_evaluations=1 \n",
    "    costs=[current_value]\n",
    "    while iteration<max_iterations and num_evaluations<10000:\n",
    "        neighbour_solution=problem.neighbour(current_solution)\n",
    "        neighbour_value = problem.value(neighbour_solution)\n",
    "        num_evaluations += 1\n",
    "        costs.append(neighbour_value)\n",
    "        if neighbour_value<current_value:\n",
    "            current_solution=neighbour_solution\n",
    "            current_value=neighbour_value\n",
    "            iteration=0\n",
    "        else:\n",
    "            iteration+=1\n",
    "    return current_solution, current_value, num_evaluations, costs"
   ]
  },
  {
   "cell_type": "code",
   "execution_count": 56,
   "metadata": {},
   "outputs": [
    {
     "name": "stdout",
     "output_type": "stream",
     "text": [
      "Best solution found has cost: 2354173.0725127207\n",
      "Number of evaluations: 1573\n"
     ]
    }
   ],
   "source": [
    "problem = SetCoveringProblem(UNIVERSE_SIZE, NUM_SETS, SETS, COSTS)\n",
    "best_solution, best_value,evaluations, fit_list,  = hill_climbing(problem)\n",
    "print(f\"Best solution found has cost: {best_value}\")\n",
    "print(f\"Number of evaluations: {evaluations}\")"
   ]
  },
  {
   "cell_type": "code",
   "execution_count": 59,
   "metadata": {},
   "outputs": [
    {
     "data": {
      "text/plain": [
       "[<matplotlib.lines.Line2D at 0x230ec230610>]"
      ]
     },
     "execution_count": 59,
     "metadata": {},
     "output_type": "execute_result"
    },
    {
     "data": {
      "image/png": "[encoded data removed]",
      "text/plain": [
       "<Figure size 640x480 with 1 Axes>"
      ]
     },
     "metadata": {},
     "output_type": "display_data"
    }
   ],
   "source": [
    "plt.plot(fit_list)"
   ]
  },
  {
   "cell_type": "markdown",
   "metadata": {},
   "source": [
    "resolts are very similar, no improvment\n",
    "\n",
    "To obtain a better result and avoid local minimal we could try other approach such as Genetic Algorithm. Or add heuritics to get out of local search or limitate the research space."
   ]
  },
  {
   "cell_type": "code",
   "execution_count": null,
   "metadata": {},
   "outputs": [],
   "source": [
    "problem = SetCoveringProblem(UNIVERSE_SIZE, NUM_SETS, SETS, COSTS)\n",
    "best_solution, best_value,evaluations, fit_list,  = hill_climbing(problem, max_iterations=3000)\n",
    "print(f\"Best solution found has cost: {best_value}\")\n",
    "print(f\"Number of evaluations: {evaluations}\")"
   ]
  },
  {
   "cell_type": "code",
   "execution_count": null,
   "metadata": {},
   "outputs": [],
   "source": [
    "plt.plot(fit_list)"
   ]
  }
 ],
 "metadata": {
  "kernelspec": {
   "display_name": "Python 3 (ipykernel)",
   "language": "python",
   "name": "python3"
  },
  "language_info": {
   "codemirror_mode": {
    "name": "ipython",
    "version": 3
   },
   "file_extension": ".py",
   "mimetype": "text/x-python",
   "name": "python",
   "nbconvert_exporter": "python",
   "pygments_lexer": "ipython3",
   "version": "3.11.4"
  }
 },
 "nbformat": 4,
 "nbformat_minor": 4
}
